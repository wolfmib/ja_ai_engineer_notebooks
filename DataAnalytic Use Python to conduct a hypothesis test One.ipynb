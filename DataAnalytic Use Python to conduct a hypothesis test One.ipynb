{
 "cells": [
  {
   "cell_type": "markdown",
   "metadata": {
    "id": "xSDP4bMrIL2x"
   },
   "source": [
    "# Annotated follow-along guide: Use Python to conduct a hypothesis test\n",
    "\n",
    "This notebook contains the code used in the following instructional video: [Use Python to conduct a hypothesis test](https://www.coursera.org/learn/the-power-of-statistics/lecture/FyATt/use-python-to-conduct-a-hypothesis-test)."
   ]
  },
  {
   "cell_type": "markdown",
   "metadata": {},
   "source": [
    "## Introduction"
   ]
  },
  {
   "cell_type": "markdown",
   "metadata": {},
   "source": [
    "Throughout the following programming activity, you will learn to use Python to conduct a two-sample hypothesis test.  Before beginning the activity, watch the associated instructional video and complete the in-video question. All of the code you will be implementing and related instructions are contained in this notebook."
   ]
  },
  {
   "cell_type": "markdown",
   "metadata": {},
   "source": [
    "## Import packages and libraries\n",
    "\n",
    "Before you begin the activity, import all the required libraries and extensions. Throughout the course, you will be using pandas and scipy stats for operations."
   ]
  },
  {
   "cell_type": "code",
   "execution_count": 1,
   "metadata": {
    "id": "_C6AXCrjIMvM"
   },
   "outputs": [],
   "source": [
    "import pandas as pd\n",
    "from scipy import stats"
   ]
  },
  {
   "cell_type": "code",
   "execution_count": 2,
   "metadata": {
    "id": "Q1cI14FVEsS8"
   },
   "outputs": [],
   "source": [
    "education_districtwise = pd.read_csv(\"education_districtwise.csv\")\n",
    "education_districtwise = education_districtwise.dropna()"
   ]
  },
  {
   "cell_type": "markdown",
   "metadata": {},
   "source": [
    "## Activity overview"
   ]
  },
  {
   "cell_type": "markdown",
   "metadata": {
    "id": "Ws00bNivmDGj"
   },
   "source": [
    "This activity continues the scenario from an earlier part of the course, in which you are a data professional working for the Department of Education of a large nation. Recall that you are analyzing data on the literacy rate for each district."
   ]
  },
  {
   "cell_type": "markdown",
   "metadata": {
    "id": "OOoT0OC8mKJp"
   },
   "source": [
    "Now imagine that the Department of Education asks you to collect data on mean district literacy rates for two of the nation’s largest states: STATE21 and STATE28. STATE28 has almost 40 districts, and STATE21 has more than 70. Due to limited time and resources, you are only able to survey 20 randomly chosen districts in each state. The department asks you to determine if the difference between the two mean district literacy rates is statistically significant or due to chance. This will help the department decide how to distribute government funding to improve literacy. If there is a statistically-significant difference, the state with the lower literacy rate may receive more funding. \n",
    "\n",
    "In this activity, you will use Python to simulate taking a random sample of 20 districts in each state and conduct a two-sample t-test based on the sample data. \n"
   ]
  },
  {
   "cell_type": "markdown",
   "metadata": {
    "id": "QdJe4yLiS5r-"
   },
   "source": [
    "## Explore the data\n",
    "\n",
    "To start, filter your dataframe for the district literacy rate data from the states STATE21 and STATE28. \n",
    "\n",
    "First, name a new variable: `state21`. Then, use the relational operator for equals (`==`) to get the relevant data from the `STATNAME` column. "
   ]
  },
  {
   "cell_type": "code",
   "execution_count": 3,
   "metadata": {
    "id": "PRB_UvPtIkrr"
   },
   "outputs": [],
   "source": [
    "state21 = education_districtwise[education_districtwise['STATNAME'] == \"STATE21\"]"
   ]
  },
  {
   "cell_type": "code",
   "execution_count": 6,
   "metadata": {},
   "outputs": [
    {
     "data": {
      "text/html": [
       "<div>\n",
       "<style scoped>\n",
       "    .dataframe tbody tr th:only-of-type {\n",
       "        vertical-align: middle;\n",
       "    }\n",
       "\n",
       "    .dataframe tbody tr th {\n",
       "        vertical-align: top;\n",
       "    }\n",
       "\n",
       "    .dataframe thead th {\n",
       "        text-align: right;\n",
       "    }\n",
       "</style>\n",
       "<table border=\"1\" class=\"dataframe\">\n",
       "  <thead>\n",
       "    <tr style=\"text-align: right;\">\n",
       "      <th></th>\n",
       "      <th>DISTNAME</th>\n",
       "      <th>STATNAME</th>\n",
       "      <th>BLOCKS</th>\n",
       "      <th>VILLAGES</th>\n",
       "      <th>CLUSTERS</th>\n",
       "      <th>TOTPOPULAT</th>\n",
       "      <th>OVERALL_LI</th>\n",
       "    </tr>\n",
       "  </thead>\n",
       "  <tbody>\n",
       "    <tr>\n",
       "      <th>133</th>\n",
       "      <td>DISTRICT607</td>\n",
       "      <td>STATE21</td>\n",
       "      <td>14</td>\n",
       "      <td>1357</td>\n",
       "      <td>127</td>\n",
       "      <td>3464228.0</td>\n",
       "      <td>72.03</td>\n",
       "    </tr>\n",
       "    <tr>\n",
       "      <th>134</th>\n",
       "      <td>DISTRICT50</td>\n",
       "      <td>STATE21</td>\n",
       "      <td>12</td>\n",
       "      <td>594</td>\n",
       "      <td>86</td>\n",
       "      <td>4138605.0</td>\n",
       "      <td>70.11</td>\n",
       "    </tr>\n",
       "    <tr>\n",
       "      <th>135</th>\n",
       "      <td>DISTRICT61</td>\n",
       "      <td>STATE21</td>\n",
       "      <td>16</td>\n",
       "      <td>1919</td>\n",
       "      <td>159</td>\n",
       "      <td>3683896.0</td>\n",
       "      <td>70.43</td>\n",
       "    </tr>\n",
       "    <tr>\n",
       "      <th>136</th>\n",
       "      <td>DISTRICT191</td>\n",
       "      <td>STATE21</td>\n",
       "      <td>10</td>\n",
       "      <td>1141</td>\n",
       "      <td>69</td>\n",
       "      <td>4773138.0</td>\n",
       "      <td>58.67</td>\n",
       "    </tr>\n",
       "    <tr>\n",
       "      <th>137</th>\n",
       "      <td>DISTRICT328</td>\n",
       "      <td>STATE21</td>\n",
       "      <td>7</td>\n",
       "      <td>1116</td>\n",
       "      <td>85</td>\n",
       "      <td>2335398.0</td>\n",
       "      <td>55.08</td>\n",
       "    </tr>\n",
       "    <tr>\n",
       "      <th>...</th>\n",
       "      <td>...</td>\n",
       "      <td>...</td>\n",
       "      <td>...</td>\n",
       "      <td>...</td>\n",
       "      <td>...</td>\n",
       "      <td>...</td>\n",
       "      <td>...</td>\n",
       "    </tr>\n",
       "    <tr>\n",
       "      <th>199</th>\n",
       "      <td>DISTRICT587</td>\n",
       "      <td>STATE21</td>\n",
       "      <td>10</td>\n",
       "      <td>1331</td>\n",
       "      <td>119</td>\n",
       "      <td>3682194.0</td>\n",
       "      <td>77.05</td>\n",
       "    </tr>\n",
       "    <tr>\n",
       "      <th>201</th>\n",
       "      <td>DISTRICT504</td>\n",
       "      <td>STATE21</td>\n",
       "      <td>13</td>\n",
       "      <td>1469</td>\n",
       "      <td>106</td>\n",
       "      <td>2494533.0</td>\n",
       "      <td>70.38</td>\n",
       "    </tr>\n",
       "    <tr>\n",
       "      <th>202</th>\n",
       "      <td>DISTRICT88</td>\n",
       "      <td>STATE21</td>\n",
       "      <td>8</td>\n",
       "      <td>1033</td>\n",
       "      <td>67</td>\n",
       "      <td>1862612.0</td>\n",
       "      <td>66.18</td>\n",
       "    </tr>\n",
       "    <tr>\n",
       "      <th>203</th>\n",
       "      <td>DISTRICT427</td>\n",
       "      <td>STATE21</td>\n",
       "      <td>7</td>\n",
       "      <td>805</td>\n",
       "      <td>80</td>\n",
       "      <td>1554203.0</td>\n",
       "      <td>71.10</td>\n",
       "    </tr>\n",
       "    <tr>\n",
       "      <th>204</th>\n",
       "      <td>DISTRICT658</td>\n",
       "      <td>STATE21</td>\n",
       "      <td>10</td>\n",
       "      <td>886</td>\n",
       "      <td>80</td>\n",
       "      <td>1438156.0</td>\n",
       "      <td>62.30</td>\n",
       "    </tr>\n",
       "  </tbody>\n",
       "</table>\n",
       "<p>71 rows × 7 columns</p>\n",
       "</div>"
      ],
      "text/plain": [
       "        DISTNAME STATNAME  BLOCKS  VILLAGES  CLUSTERS  TOTPOPULAT  OVERALL_LI\n",
       "133  DISTRICT607  STATE21      14      1357       127   3464228.0       72.03\n",
       "134   DISTRICT50  STATE21      12       594        86   4138605.0       70.11\n",
       "135   DISTRICT61  STATE21      16      1919       159   3683896.0       70.43\n",
       "136  DISTRICT191  STATE21      10      1141        69   4773138.0       58.67\n",
       "137  DISTRICT328  STATE21       7      1116        85   2335398.0       55.08\n",
       "..           ...      ...     ...       ...       ...         ...         ...\n",
       "199  DISTRICT587  STATE21      10      1331       119   3682194.0       77.05\n",
       "201  DISTRICT504  STATE21      13      1469       106   2494533.0       70.38\n",
       "202   DISTRICT88  STATE21       8      1033        67   1862612.0       66.18\n",
       "203  DISTRICT427  STATE21       7       805        80   1554203.0       71.10\n",
       "204  DISTRICT658  STATE21      10       886        80   1438156.0       62.30\n",
       "\n",
       "[71 rows x 7 columns]"
      ]
     },
     "execution_count": 6,
     "metadata": {},
     "output_type": "execute_result"
    }
   ],
   "source": [
    "state21"
   ]
  },
  {
   "cell_type": "markdown",
   "metadata": {
    "id": "ggXtlQCVTq9B"
   },
   "source": [
    "Next, name another variable: `state28`. Follow the same procedure to get the relevant data from the `STATNAME` column. "
   ]
  },
  {
   "cell_type": "code",
   "execution_count": 4,
   "metadata": {
    "id": "H-HDRkJMTki5"
   },
   "outputs": [],
   "source": [
    "state28 = education_districtwise[education_districtwise['STATNAME'] == \"STATE28\"]"
   ]
  },
  {
   "cell_type": "code",
   "execution_count": 7,
   "metadata": {},
   "outputs": [
    {
     "data": {
      "text/html": [
       "<div>\n",
       "<style scoped>\n",
       "    .dataframe tbody tr th:only-of-type {\n",
       "        vertical-align: middle;\n",
       "    }\n",
       "\n",
       "    .dataframe tbody tr th {\n",
       "        vertical-align: top;\n",
       "    }\n",
       "\n",
       "    .dataframe thead th {\n",
       "        text-align: right;\n",
       "    }\n",
       "</style>\n",
       "<table border=\"1\" class=\"dataframe\">\n",
       "  <thead>\n",
       "    <tr style=\"text-align: right;\">\n",
       "      <th></th>\n",
       "      <th>DISTNAME</th>\n",
       "      <th>STATNAME</th>\n",
       "      <th>BLOCKS</th>\n",
       "      <th>VILLAGES</th>\n",
       "      <th>CLUSTERS</th>\n",
       "      <th>TOTPOPULAT</th>\n",
       "      <th>OVERALL_LI</th>\n",
       "    </tr>\n",
       "  </thead>\n",
       "  <tbody>\n",
       "    <tr>\n",
       "      <th>208</th>\n",
       "      <td>DISTRICT495</td>\n",
       "      <td>STATE28</td>\n",
       "      <td>18</td>\n",
       "      <td>1210</td>\n",
       "      <td>193</td>\n",
       "      <td>3922780.0</td>\n",
       "      <td>58.06</td>\n",
       "    </tr>\n",
       "    <tr>\n",
       "      <th>209</th>\n",
       "      <td>DISTRICT208</td>\n",
       "      <td>STATE28</td>\n",
       "      <td>27</td>\n",
       "      <td>1534</td>\n",
       "      <td>251</td>\n",
       "      <td>5082868.0</td>\n",
       "      <td>58.26</td>\n",
       "    </tr>\n",
       "    <tr>\n",
       "      <th>210</th>\n",
       "      <td>DISTRICT618</td>\n",
       "      <td>STATE28</td>\n",
       "      <td>5</td>\n",
       "      <td>183</td>\n",
       "      <td>34</td>\n",
       "      <td>656916.0</td>\n",
       "      <td>56.00</td>\n",
       "    </tr>\n",
       "    <tr>\n",
       "      <th>211</th>\n",
       "      <td>DISTRICT554</td>\n",
       "      <td>STATE28</td>\n",
       "      <td>17</td>\n",
       "      <td>852</td>\n",
       "      <td>169</td>\n",
       "      <td>3419622.0</td>\n",
       "      <td>53.53</td>\n",
       "    </tr>\n",
       "    <tr>\n",
       "      <th>212</th>\n",
       "      <td>DISTRICT642</td>\n",
       "      <td>STATE28</td>\n",
       "      <td>21</td>\n",
       "      <td>1102</td>\n",
       "      <td>241</td>\n",
       "      <td>4476044.0</td>\n",
       "      <td>60.90</td>\n",
       "    </tr>\n",
       "    <tr>\n",
       "      <th>213</th>\n",
       "      <td>DISTRICT347</td>\n",
       "      <td>STATE28</td>\n",
       "      <td>11</td>\n",
       "      <td>623</td>\n",
       "      <td>94</td>\n",
       "      <td>2228397.0</td>\n",
       "      <td>59.65</td>\n",
       "    </tr>\n",
       "    <tr>\n",
       "      <th>214</th>\n",
       "      <td>DISTRICT4</td>\n",
       "      <td>STATE28</td>\n",
       "      <td>9</td>\n",
       "      <td>990</td>\n",
       "      <td>140</td>\n",
       "      <td>2806200.0</td>\n",
       "      <td>55.10</td>\n",
       "    </tr>\n",
       "    <tr>\n",
       "      <th>215</th>\n",
       "      <td>DISTRICT52</td>\n",
       "      <td>STATE28</td>\n",
       "      <td>7</td>\n",
       "      <td>978</td>\n",
       "      <td>131</td>\n",
       "      <td>1690948.0</td>\n",
       "      <td>57.04</td>\n",
       "    </tr>\n",
       "    <tr>\n",
       "      <th>216</th>\n",
       "      <td>DISTRICT291</td>\n",
       "      <td>STATE28</td>\n",
       "      <td>14</td>\n",
       "      <td>1188</td>\n",
       "      <td>165</td>\n",
       "      <td>3273127.0</td>\n",
       "      <td>52.49</td>\n",
       "    </tr>\n",
       "    <tr>\n",
       "      <th>217</th>\n",
       "      <td>DISTRICT266</td>\n",
       "      <td>STATE28</td>\n",
       "      <td>16</td>\n",
       "      <td>1621</td>\n",
       "      <td>173</td>\n",
       "      <td>3068149.0</td>\n",
       "      <td>53.56</td>\n",
       "    </tr>\n",
       "    <tr>\n",
       "      <th>218</th>\n",
       "      <td>DISTRICT227</td>\n",
       "      <td>STATE28</td>\n",
       "      <td>13</td>\n",
       "      <td>404</td>\n",
       "      <td>126</td>\n",
       "      <td>1994618.0</td>\n",
       "      <td>53.78</td>\n",
       "    </tr>\n",
       "    <tr>\n",
       "      <th>219</th>\n",
       "      <td>DISTRICT459</td>\n",
       "      <td>STATE28</td>\n",
       "      <td>10</td>\n",
       "      <td>651</td>\n",
       "      <td>107</td>\n",
       "      <td>1897102.0</td>\n",
       "      <td>54.57</td>\n",
       "    </tr>\n",
       "    <tr>\n",
       "      <th>220</th>\n",
       "      <td>DISTRICT569</td>\n",
       "      <td>STATE28</td>\n",
       "      <td>19</td>\n",
       "      <td>1168</td>\n",
       "      <td>191</td>\n",
       "      <td>3921971.0</td>\n",
       "      <td>58.26</td>\n",
       "    </tr>\n",
       "    <tr>\n",
       "      <th>221</th>\n",
       "      <td>DISTRICT501</td>\n",
       "      <td>STATE28</td>\n",
       "      <td>16</td>\n",
       "      <td>1828</td>\n",
       "      <td>258</td>\n",
       "      <td>4778610.0</td>\n",
       "      <td>65.68</td>\n",
       "    </tr>\n",
       "    <tr>\n",
       "      <th>222</th>\n",
       "      <td>DISTRICT663</td>\n",
       "      <td>STATE28</td>\n",
       "      <td>14</td>\n",
       "      <td>1358</td>\n",
       "      <td>120</td>\n",
       "      <td>2558037.0</td>\n",
       "      <td>67.04</td>\n",
       "    </tr>\n",
       "    <tr>\n",
       "      <th>223</th>\n",
       "      <td>DISTRICT330</td>\n",
       "      <td>STATE28</td>\n",
       "      <td>19</td>\n",
       "      <td>1405</td>\n",
       "      <td>171</td>\n",
       "      <td>3318176.0</td>\n",
       "      <td>71.59</td>\n",
       "    </tr>\n",
       "    <tr>\n",
       "      <th>224</th>\n",
       "      <td>DISTRICT290</td>\n",
       "      <td>STATE28</td>\n",
       "      <td>20</td>\n",
       "      <td>1564</td>\n",
       "      <td>178</td>\n",
       "      <td>3943098.0</td>\n",
       "      <td>68.57</td>\n",
       "    </tr>\n",
       "    <tr>\n",
       "      <th>225</th>\n",
       "      <td>DISTRICT295</td>\n",
       "      <td>STATE28</td>\n",
       "      <td>16</td>\n",
       "      <td>1187</td>\n",
       "      <td>182</td>\n",
       "      <td>3495249.0</td>\n",
       "      <td>68.56</td>\n",
       "    </tr>\n",
       "    <tr>\n",
       "      <th>226</th>\n",
       "      <td>DISTRICT638</td>\n",
       "      <td>STATE28</td>\n",
       "      <td>20</td>\n",
       "      <td>1138</td>\n",
       "      <td>182</td>\n",
       "      <td>4254782.0</td>\n",
       "      <td>63.81</td>\n",
       "    </tr>\n",
       "    <tr>\n",
       "      <th>227</th>\n",
       "      <td>DISTRICT159</td>\n",
       "      <td>STATE28</td>\n",
       "      <td>18</td>\n",
       "      <td>870</td>\n",
       "      <td>134</td>\n",
       "      <td>2954367.0</td>\n",
       "      <td>66.23</td>\n",
       "    </tr>\n",
       "    <tr>\n",
       "      <th>228</th>\n",
       "      <td>DISTRICT251</td>\n",
       "      <td>STATE28</td>\n",
       "      <td>7</td>\n",
       "      <td>287</td>\n",
       "      <td>88</td>\n",
       "      <td>1657599.0</td>\n",
       "      <td>60.87</td>\n",
       "    </tr>\n",
       "    <tr>\n",
       "      <th>229</th>\n",
       "      <td>DISTRICT583</td>\n",
       "      <td>STATE28</td>\n",
       "      <td>17</td>\n",
       "      <td>1394</td>\n",
       "      <td>156</td>\n",
       "      <td>3032226.0</td>\n",
       "      <td>64.96</td>\n",
       "    </tr>\n",
       "    <tr>\n",
       "      <th>230</th>\n",
       "      <td>DISTRICT109</td>\n",
       "      <td>STATE28</td>\n",
       "      <td>11</td>\n",
       "      <td>1340</td>\n",
       "      <td>178</td>\n",
       "      <td>2029339.0</td>\n",
       "      <td>60.12</td>\n",
       "    </tr>\n",
       "    <tr>\n",
       "      <th>231</th>\n",
       "      <td>DISTRICT451</td>\n",
       "      <td>STATE28</td>\n",
       "      <td>9</td>\n",
       "      <td>535</td>\n",
       "      <td>78</td>\n",
       "      <td>1359054.0</td>\n",
       "      <td>73.30</td>\n",
       "    </tr>\n",
       "    <tr>\n",
       "      <th>232</th>\n",
       "      <td>DISTRICT216</td>\n",
       "      <td>STATE28</td>\n",
       "      <td>7</td>\n",
       "      <td>471</td>\n",
       "      <td>61</td>\n",
       "      <td>1000717.0</td>\n",
       "      <td>64.95</td>\n",
       "    </tr>\n",
       "    <tr>\n",
       "      <th>233</th>\n",
       "      <td>DISTRICT67</td>\n",
       "      <td>STATE28</td>\n",
       "      <td>6</td>\n",
       "      <td>355</td>\n",
       "      <td>43</td>\n",
       "      <td>634927.0</td>\n",
       "      <td>65.96</td>\n",
       "    </tr>\n",
       "    <tr>\n",
       "      <th>234</th>\n",
       "      <td>DISTRICT517</td>\n",
       "      <td>STATE28</td>\n",
       "      <td>20</td>\n",
       "      <td>1114</td>\n",
       "      <td>189</td>\n",
       "      <td>2872523.0</td>\n",
       "      <td>66.41</td>\n",
       "    </tr>\n",
       "    <tr>\n",
       "      <th>235</th>\n",
       "      <td>DISTRICT111</td>\n",
       "      <td>STATE28</td>\n",
       "      <td>24</td>\n",
       "      <td>1600</td>\n",
       "      <td>266</td>\n",
       "      <td>5772804.0</td>\n",
       "      <td>72.47</td>\n",
       "    </tr>\n",
       "    <tr>\n",
       "      <th>236</th>\n",
       "      <td>DISTRICT379</td>\n",
       "      <td>STATE28</td>\n",
       "      <td>14</td>\n",
       "      <td>1204</td>\n",
       "      <td>159</td>\n",
       "      <td>2720155.0</td>\n",
       "      <td>72.79</td>\n",
       "    </tr>\n",
       "    <tr>\n",
       "      <th>237</th>\n",
       "      <td>DISTRICT151</td>\n",
       "      <td>STATE28</td>\n",
       "      <td>11</td>\n",
       "      <td>767</td>\n",
       "      <td>101</td>\n",
       "      <td>1707643.0</td>\n",
       "      <td>71.77</td>\n",
       "    </tr>\n",
       "    <tr>\n",
       "      <th>238</th>\n",
       "      <td>DISTRICT64</td>\n",
       "      <td>STATE28</td>\n",
       "      <td>11</td>\n",
       "      <td>1101</td>\n",
       "      <td>73</td>\n",
       "      <td>1626900.0</td>\n",
       "      <td>71.01</td>\n",
       "    </tr>\n",
       "    <tr>\n",
       "      <th>239</th>\n",
       "      <td>DISTRICT374</td>\n",
       "      <td>STATE28</td>\n",
       "      <td>19</td>\n",
       "      <td>1907</td>\n",
       "      <td>200</td>\n",
       "      <td>2962593.0</td>\n",
       "      <td>75.59</td>\n",
       "    </tr>\n",
       "    <tr>\n",
       "      <th>240</th>\n",
       "      <td>DISTRICT463</td>\n",
       "      <td>STATE28</td>\n",
       "      <td>7</td>\n",
       "      <td>512</td>\n",
       "      <td>69</td>\n",
       "      <td>1124176.0</td>\n",
       "      <td>68.27</td>\n",
       "    </tr>\n",
       "    <tr>\n",
       "      <th>241</th>\n",
       "      <td>DISTRICT324</td>\n",
       "      <td>STATE28</td>\n",
       "      <td>11</td>\n",
       "      <td>1690</td>\n",
       "      <td>172</td>\n",
       "      <td>2511243.0</td>\n",
       "      <td>72.77</td>\n",
       "    </tr>\n",
       "    <tr>\n",
       "      <th>242</th>\n",
       "      <td>DISTRICT285</td>\n",
       "      <td>STATE28</td>\n",
       "      <td>24</td>\n",
       "      <td>2334</td>\n",
       "      <td>252</td>\n",
       "      <td>4379383.0</td>\n",
       "      <td>66.35</td>\n",
       "    </tr>\n",
       "    <tr>\n",
       "      <th>243</th>\n",
       "      <td>DISTRICT387</td>\n",
       "      <td>STATE28</td>\n",
       "      <td>14</td>\n",
       "      <td>953</td>\n",
       "      <td>132</td>\n",
       "      <td>2216653.0</td>\n",
       "      <td>61.63</td>\n",
       "    </tr>\n",
       "    <tr>\n",
       "      <th>244</th>\n",
       "      <td>DISTRICT47</td>\n",
       "      <td>STATE28</td>\n",
       "      <td>10</td>\n",
       "      <td>1054</td>\n",
       "      <td>143</td>\n",
       "      <td>1756078.0</td>\n",
       "      <td>62.16</td>\n",
       "    </tr>\n",
       "    <tr>\n",
       "      <th>245</th>\n",
       "      <td>DISTRICT418</td>\n",
       "      <td>STATE28</td>\n",
       "      <td>5</td>\n",
       "      <td>307</td>\n",
       "      <td>33</td>\n",
       "      <td>699563.0</td>\n",
       "      <td>69.54</td>\n",
       "    </tr>\n",
       "  </tbody>\n",
       "</table>\n",
       "</div>"
      ],
      "text/plain": [
       "        DISTNAME STATNAME  BLOCKS  VILLAGES  CLUSTERS  TOTPOPULAT  OVERALL_LI\n",
       "208  DISTRICT495  STATE28      18      1210       193   3922780.0       58.06\n",
       "209  DISTRICT208  STATE28      27      1534       251   5082868.0       58.26\n",
       "210  DISTRICT618  STATE28       5       183        34    656916.0       56.00\n",
       "211  DISTRICT554  STATE28      17       852       169   3419622.0       53.53\n",
       "212  DISTRICT642  STATE28      21      1102       241   4476044.0       60.90\n",
       "213  DISTRICT347  STATE28      11       623        94   2228397.0       59.65\n",
       "214    DISTRICT4  STATE28       9       990       140   2806200.0       55.10\n",
       "215   DISTRICT52  STATE28       7       978       131   1690948.0       57.04\n",
       "216  DISTRICT291  STATE28      14      1188       165   3273127.0       52.49\n",
       "217  DISTRICT266  STATE28      16      1621       173   3068149.0       53.56\n",
       "218  DISTRICT227  STATE28      13       404       126   1994618.0       53.78\n",
       "219  DISTRICT459  STATE28      10       651       107   1897102.0       54.57\n",
       "220  DISTRICT569  STATE28      19      1168       191   3921971.0       58.26\n",
       "221  DISTRICT501  STATE28      16      1828       258   4778610.0       65.68\n",
       "222  DISTRICT663  STATE28      14      1358       120   2558037.0       67.04\n",
       "223  DISTRICT330  STATE28      19      1405       171   3318176.0       71.59\n",
       "224  DISTRICT290  STATE28      20      1564       178   3943098.0       68.57\n",
       "225  DISTRICT295  STATE28      16      1187       182   3495249.0       68.56\n",
       "226  DISTRICT638  STATE28      20      1138       182   4254782.0       63.81\n",
       "227  DISTRICT159  STATE28      18       870       134   2954367.0       66.23\n",
       "228  DISTRICT251  STATE28       7       287        88   1657599.0       60.87\n",
       "229  DISTRICT583  STATE28      17      1394       156   3032226.0       64.96\n",
       "230  DISTRICT109  STATE28      11      1340       178   2029339.0       60.12\n",
       "231  DISTRICT451  STATE28       9       535        78   1359054.0       73.30\n",
       "232  DISTRICT216  STATE28       7       471        61   1000717.0       64.95\n",
       "233   DISTRICT67  STATE28       6       355        43    634927.0       65.96\n",
       "234  DISTRICT517  STATE28      20      1114       189   2872523.0       66.41\n",
       "235  DISTRICT111  STATE28      24      1600       266   5772804.0       72.47\n",
       "236  DISTRICT379  STATE28      14      1204       159   2720155.0       72.79\n",
       "237  DISTRICT151  STATE28      11       767       101   1707643.0       71.77\n",
       "238   DISTRICT64  STATE28      11      1101        73   1626900.0       71.01\n",
       "239  DISTRICT374  STATE28      19      1907       200   2962593.0       75.59\n",
       "240  DISTRICT463  STATE28       7       512        69   1124176.0       68.27\n",
       "241  DISTRICT324  STATE28      11      1690       172   2511243.0       72.77\n",
       "242  DISTRICT285  STATE28      24      2334       252   4379383.0       66.35\n",
       "243  DISTRICT387  STATE28      14       953       132   2216653.0       61.63\n",
       "244   DISTRICT47  STATE28      10      1054       143   1756078.0       62.16\n",
       "245  DISTRICT418  STATE28       5       307        33    699563.0       69.54"
      ]
     },
     "execution_count": 7,
     "metadata": {},
     "output_type": "execute_result"
    }
   ],
   "source": [
    "state28"
   ]
  },
  {
   "cell_type": "markdown",
   "metadata": {
    "id": "U6-SPgP2UADq"
   },
   "source": [
    "### Simulate random sampling\n",
    "\n",
    "Now that you have organized your data, use the `sample()` function to take a random sample of 20 districts from each state. First, name a new variable: `sampled_state21`. Then, enter the arguments of the `sample()` function. \n",
    "\n",
    "*   `n`: Your sample size is `20`. \n",
    "*   `replace`: Choose `True` because you are sampling with replacement.\n",
    "*   `random_state`: Choose an arbitrary number for the random seed – how about `13490`. \n",
    ". "
   ]
  },
  {
   "cell_type": "code",
   "execution_count": 5,
   "metadata": {
    "id": "T7Xbx5XtFAGU"
   },
   "outputs": [],
   "source": [
    "sampled_state21 = state21.sample(n=20, replace = True, random_state=13490)"
   ]
  },
  {
   "cell_type": "markdown",
   "metadata": {
    "id": "cRrhbM4WULQ8"
   },
   "source": [
    "Now, name another variable: `sampled_state28`. Follow the same procedure, but this time choose a different number for the random seed; for example, 39,103. "
   ]
  },
  {
   "cell_type": "code",
   "execution_count": 10,
   "metadata": {
    "id": "BE555gsmULmX"
   },
   "outputs": [],
   "source": [
    "sampled_state28 = state28.sample(n=20, replace = True, random_state=39103)"
   ]
  },
  {
   "cell_type": "markdown",
   "metadata": {
    "id": "A_wXNJTSwU1T"
   },
   "source": [
    "### Compute the sample means\n",
    "\n",
    "You now have two random samples of 20 districts—one sample for each state. Next, use `mean()` to compute the mean district literacy rate for both STATE21 and STATE28."
   ]
  },
  {
   "cell_type": "code",
   "execution_count": 11,
   "metadata": {
    "colab": {
     "base_uri": "https://localhost:8080/"
    },
    "id": "WtCBv7Pdzp1S",
    "outputId": "8867edc3-630a-4c49-9cef-23160a59b4fb"
   },
   "outputs": [
    {
     "data": {
      "text/plain": [
       "70.82900000000001"
      ]
     },
     "execution_count": 11,
     "metadata": {},
     "output_type": "execute_result"
    }
   ],
   "source": [
    "sampled_state21['OVERALL_LI'].mean()"
   ]
  },
  {
   "cell_type": "code",
   "execution_count": 12,
   "metadata": {
    "colab": {
     "base_uri": "https://localhost:8080/"
    },
    "id": "T2YShgan0MDg",
    "outputId": "301fbf0e-a7e8-4c4c-cbe3-7870fc7c9e44"
   },
   "outputs": [
    {
     "data": {
      "text/plain": [
       "64.60100000000001"
      ]
     },
     "execution_count": 12,
     "metadata": {},
     "output_type": "execute_result"
    }
   ],
   "source": [
    "sampled_state28['OVERALL_LI'].mean()"
   ]
  },
  {
   "cell_type": "markdown",
   "metadata": {
    "id": "RJNadLsNWssi"
   },
   "source": [
    "STATE21 has a mean district literacy rate of about 70.8%, while STATE28 has a mean district literacy rate of about 64.6%.\n",
    "\n",
    "Based on your sample data, the observed difference between the mean district literacy rates of STATE21 and STATE28 is 6.2 percentage points (70.8% - 64.6%). "
   ]
  },
  {
   "cell_type": "markdown",
   "metadata": {
    "id": "hqjCHOPRwh_j"
   },
   "source": [
    "**Note**: At this point, you might be tempted to conclude that STATE21 has a higher overall literacy rate than STATE28. However, due to sampling variability, this observed difference might simply be due to chance, rather than an actual difference in the corresponding population means. A hypothesis test can help you determine whether or not your results are statistically significant. "
   ]
  },
  {
   "cell_type": "markdown",
   "metadata": {
    "id": "ozRJehHPZQ6i"
   },
   "source": [
    "### Conduct a hypothesis test\n",
    "\n",
    "Now that you’ve organized your data and simulated random sampling, you’re ready to conduct your hypothesis test. Recall that a two-sample t-test is the standard approach for comparing the means of two independent samples. To review, the steps for conducting a hypothesis test are:\n",
    "\n",
    "1.   State the null hypothesis and the alternative hypothesis.\n",
    "2.   Choose a significance level.\n",
    "3.   Find the p-value. \n",
    "4.   Reject or fail to reject the null hypothesis."
   ]
  },
  {
   "cell_type": "markdown",
   "metadata": {
    "id": "HSbe913K6psC"
   },
   "source": [
    "#### Step 1: State the null hypothesis and the alternative hypothesis\n",
    "\n",
    "The **null hypothesis** is a statement that is assumed to be true unless there is convincing evidence to the contrary. The **alternative hypothesis** is a statement that contradicts the null hypothesis and is accepted as true only if there is convincing evidence for it. \n",
    "\n",
    "In a two-sample t-test, the null hypothesis states that there is no difference between the means of your two groups. The alternative hypothesis states the contrary claim: there is a difference between the means of your two groups. \n",
    "\n",
    "We use $H_0$ to denote the null hypothesis and $H_A$ to denote the alternative hypothesis.\n",
    "\n",
    "*   $H_0$: There is no difference in the mean district literacy rates between STATE21 and STATE28.\n",
    "*   $H_A$: There is a difference in the mean district literacy rates between STATE21 and STATE28.\n",
    "\n"
   ]
  },
  {
   "cell_type": "markdown",
   "metadata": {
    "id": "eZpCqv6D9241"
   },
   "source": [
    "#### Step 2: Choose a significance level\n",
    "\n",
    "The **significance level** is the threshold at which you will consider a result statistically significant. This is the probability of rejecting the null hypothesis when it is true. The Department of Education asks you to use their standard level of 5%, or 0.05.  "
   ]
  },
  {
   "cell_type": "markdown",
   "metadata": {
    "id": "0k3BHBhR8bCZ"
   },
   "source": [
    "#### Step 3: Find the p-value\n",
    "\n",
    "**P-value** refers to the probability of observing results as or more extreme than those observed when the null hypothesis is true.\n",
    "\n",
    "Based on your sample data, the difference between the mean district literacy rates of STATE21 and STATE28 is 6.2 percentage points. Your null hypothesis claims that this difference is due to chance. Your p-value is the probability of observing an absolute difference in sample means that is 6.2 or greater *if* the null hypothesis is true. If the probability of this outcome is very unlikely—in particular, if your p-value is *less than* your significance level of 5%— then you will reject the null hypothesis."
   ]
  },
  {
   "cell_type": "markdown",
   "metadata": {
    "id": "d7u1j6Gpdk55"
   },
   "source": [
    "#### `scipy.stats.ttest_ind()`\n",
    "\n",
    "For a two-sample $t$-test, you can use `scipy.stats.ttest_ind()` to compute your p-value. This function includes the following arguments:\n",
    "\n",
    "*   `a`: Observations from the first sample \n",
    "*   `b`: Observations from the second sample\n",
    "*   `equal_var`: A boolean, or true/false statement, which indicates whether the population variance of the two samples is assumed to be equal. In our example, you don’t have access to data for the entire population, so you don’t want to assume anything about the variance. To avoid making a wrong assumption, set this argument to `False`. \n",
    "\n",
    "**Reference:** [scipy.stats.ttest_ind](https://docs.scipy.org/doc/scipy/reference/generated/scipy.stats.ttest_ind.html)\n"
   ]
  },
  {
   "cell_type": "markdown",
   "metadata": {
    "id": "MrAORxvmfQ20"
   },
   "source": [
    "Now write your code and enter the relevant arguments: \n",
    "\n",
    "*   `a`: Your first sample refers to the district literacy rate data for STATE21, which is stored in the `OVERALL_LI` column of your variable `sampled_ state21`.\n",
    "*   `b`: Your second sample refers to the district literacy rate data for STATE28, which is stored in the `OVERALL_LI` column of your variable `sampled_ state28`.\n",
    "*   `equal_var`: Set to `False` because you don’t want to assume that the two samples have the same variance."
   ]
  },
  {
   "cell_type": "code",
   "execution_count": 13,
   "metadata": {
    "colab": {
     "base_uri": "https://localhost:8080/"
    },
    "id": "lbKgNo-tIkki",
    "outputId": "7de9a1df-d039-4e5b-8abd-1dc4158388f6"
   },
   "outputs": [
    {
     "data": {
      "text/plain": [
       "Ttest_indResult(statistic=2.8980444277268735, pvalue=0.006421719142765231)"
      ]
     },
     "execution_count": 13,
     "metadata": {},
     "output_type": "execute_result"
    }
   ],
   "source": [
    "stats.ttest_ind(a=sampled_state21['OVERALL_LI'], b=sampled_state28['OVERALL_LI'], equal_var=False)"
   ]
  },
  {
   "cell_type": "markdown",
   "metadata": {
    "id": "Dv9jGagsAaN2"
   },
   "source": [
    "Your p-value is about 0.0064, or 0.64%. \n",
    "\n",
    "This means there is only a 0.64% probability that the absolute difference between the two mean district literacy rates would be 6.2 percentage points or greater if the null hypothesis were true. In other words, it’s highly unlikely that the difference in the two means is due to chance."
   ]
  },
  {
   "cell_type": "markdown",
   "metadata": {
    "id": "hWLkcY05_aLf"
   },
   "source": [
    "#### Step 4: Reject or fail to reject the null hypothesis\n",
    "\n",
    "To draw a conclusion, compare your p-value with the significance level.\n",
    "\n",
    "*   If the p-value is less than the significance level, you can conclude that there is a statistically significant difference in the mean district literacy rates between STATE21 and STATE28. In other words, you will reject the null hypothesis $H_0$.\n",
    "*   If the p-value is greater than the significance level, you can conclude that there is *not* a statistically significant difference in the mean district literacy rates between STATE21 and STATE28. In other words, you will fail to reject the null hypothesis $H_0$.\n",
    "\n",
    "Your p-value of 0.0064, or 0.64%, is less than the significance level of 0.05, or 5%. Therefore, you will *reject* the null hypothesis and conclude that there is a statistically significant difference between the mean district literacy rates of the two states: STATE21 and STATE28. "
   ]
  },
  {
   "cell_type": "markdown",
   "metadata": {
    "id": "fN0US9mFiDVn"
   },
   "source": [
    "Your analysis will help the Department of Education decide how to distribute government resources. Since there is a statistically significant difference in mean district literacy rates, the state with the lower literacy rate, STATE28, will likely receive more resources to improve literacy. "
   ]
  },
  {
   "cell_type": "markdown",
   "metadata": {
    "id": "INEo81bakaqz"
   },
   "source": [
    "## Conclusion\n",
    "\n",
    "**Congratulations!** You've completed this lab. However, you may not notice a green check mark next to this item on Coursera's platform. Please continue your progress regardless of the check mark. Just click on the \"save\" icon at the top of this notebook to ensure your work has been logged.\n",
    "\n",
    "You now understand how to use Python to conduct a two-sample hypothesis test. Going forward, you can start using Python to conduct hypothesis tests on your own data."
   ]
  }
 ],
 "metadata": {
  "colab": {
   "collapsed_sections": [],
   "provenance": [
    {
     "file_id": "1BgN3Lv1fx-AxyKSqB_2kM3dJ4mFBctv_",
     "timestamp": 1662734078308
    },
    {
     "file_id": "1ZYfhIvPRxnw7ghB_BsNQAMUorLXpAZs_",
     "timestamp": 1658889786811
    }
   ]
  },
  "kernelspec": {
   "display_name": "Python 3",
   "language": "python",
   "name": "python3"
  },
  "language_info": {
   "codemirror_mode": {
    "name": "ipython",
    "version": 3
   },
   "file_extension": ".py",
   "mimetype": "text/x-python",
   "name": "python",
   "nbconvert_exporter": "python",
   "pygments_lexer": "ipython3",
   "version": "3.7.6"
  }
 },
 "nbformat": 4,
 "nbformat_minor": 1
}
